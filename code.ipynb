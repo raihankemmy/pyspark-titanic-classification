{
  "nbformat": 4,
  "nbformat_minor": 0,
  "metadata": {
    "colab": {
      "name": "PySpark Big Data",
      "provenance": [],
      "collapsed_sections": [],
      "authorship_tag": "ABX9TyN+w2sZjW/bvCM7XOiSt+dr",
      "include_colab_link": true
    },
    "kernelspec": {
      "name": "python3",
      "display_name": "Python 3"
    },
    "language_info": {
      "name": "python"
    }
  },
  "cells": [
    {
      "cell_type": "markdown",
      "metadata": {
        "id": "view-in-github",
        "colab_type": "text"
      },
      "source": [
        "<a href=\"https://colab.research.google.com/github/raihankemmy/pyspark-titanic-classification/blob/main/code.ipynb\" target=\"_parent\"><img src=\"https://colab.research.google.com/assets/colab-badge.svg\" alt=\"Open In Colab\"/></a>"
      ]
    },
    {
      "cell_type": "code",
      "source": [
        "from google.colab import drive\n",
        "drive.mount('/content/drive')"
      ],
      "metadata": {
        "id": "wSrOVs9i2XfG",
        "colab": {
          "base_uri": "https://localhost:8080/"
        },
        "outputId": "f95f377a-ecc2-4a33-e6ca-ff08e4a225d9"
      },
      "execution_count": 1,
      "outputs": [
        {
          "output_type": "stream",
          "name": "stdout",
          "text": [
            "Mounted at /content/drive\n"
          ]
        }
      ]
    },
    {
      "cell_type": "code",
      "execution_count": 2,
      "metadata": {
        "id": "7jkq-tqQn1Ug",
        "colab": {
          "base_uri": "https://localhost:8080/"
        },
        "outputId": "6447e953-c17f-42a1-92e3-69cfc110d258"
      },
      "outputs": [
        {
          "output_type": "stream",
          "name": "stdout",
          "text": [
            "Looking in indexes: https://pypi.org/simple, https://us-python.pkg.dev/colab-wheels/public/simple/\n",
            "Collecting pyspark\n",
            "  Downloading pyspark-3.3.0.tar.gz (281.3 MB)\n",
            "\u001b[K     |████████████████████████████████| 281.3 MB 52 kB/s \n",
            "\u001b[?25hCollecting py4j==0.10.9.5\n",
            "  Downloading py4j-0.10.9.5-py2.py3-none-any.whl (199 kB)\n",
            "\u001b[K     |████████████████████████████████| 199 kB 50.5 MB/s \n",
            "\u001b[?25hBuilding wheels for collected packages: pyspark\n",
            "  Building wheel for pyspark (setup.py) ... \u001b[?25l\u001b[?25hdone\n",
            "  Created wheel for pyspark: filename=pyspark-3.3.0-py2.py3-none-any.whl size=281764026 sha256=87ce770b48a20f41c868c96990349e277b26ab82de696d6bd141944a14455ff6\n",
            "  Stored in directory: /root/.cache/pip/wheels/7a/8e/1b/f73a52650d2e5f337708d9f6a1750d451a7349a867f928b885\n",
            "Successfully built pyspark\n",
            "Installing collected packages: py4j, pyspark\n",
            "Successfully installed py4j-0.10.9.5 pyspark-3.3.0\n"
          ]
        }
      ],
      "source": [
        "!pip install pyspark"
      ]
    },
    {
      "cell_type": "code",
      "source": [
        "import numpy as np\n",
        "import pandas as pd\n",
        "from pyspark.sql import *\n",
        "from pyspark.sql.functions import *\n",
        "from pyspark.ml.feature import *\n",
        "import seaborn as sns\n",
        "import matplotlib.pyplot as plt\n",
        "from sklearn.model_selection import train_test_split\n",
        "from pyspark.ml.evaluation import MulticlassClassificationEvaluator\n",
        "from sklearn.metrics import confusion_matrix, classification_report, ConfusionMatrixDisplay"
      ],
      "metadata": {
        "id": "Ns6ltnTS2u6n"
      },
      "execution_count": 3,
      "outputs": []
    },
    {
      "cell_type": "code",
      "source": [
        "spark = SparkSession.builder.getOrCreate()\n",
        "spark"
      ],
      "metadata": {
        "id": "xzb2br683GyX",
        "colab": {
          "base_uri": "https://localhost:8080/",
          "height": 219
        },
        "outputId": "23477584-0ab3-4381-ca3a-e14ac90d0fd3"
      },
      "execution_count": 4,
      "outputs": [
        {
          "output_type": "execute_result",
          "data": {
            "text/plain": [
              "<pyspark.sql.session.SparkSession at 0x7f84ce0731d0>"
            ],
            "text/html": [
              "\n",
              "            <div>\n",
              "                <p><b>SparkSession - in-memory</b></p>\n",
              "                \n",
              "        <div>\n",
              "            <p><b>SparkContext</b></p>\n",
              "\n",
              "            <p><a href=\"http://0acd50592c46:4040\">Spark UI</a></p>\n",
              "\n",
              "            <dl>\n",
              "              <dt>Version</dt>\n",
              "                <dd><code>v3.3.0</code></dd>\n",
              "              <dt>Master</dt>\n",
              "                <dd><code>local[*]</code></dd>\n",
              "              <dt>AppName</dt>\n",
              "                <dd><code>pyspark-shell</code></dd>\n",
              "            </dl>\n",
              "        </div>\n",
              "        \n",
              "            </div>\n",
              "        "
            ]
          },
          "metadata": {},
          "execution_count": 4
        }
      ]
    },
    {
      "cell_type": "markdown",
      "source": [
        "# Load Data"
      ],
      "metadata": {
        "id": "0KDe35425Syf"
      }
    },
    {
      "cell_type": "code",
      "source": [
        "df = spark.read.csv('/content/drive/MyDrive/Colab Notebooks/dataset/titanic.csv',\n",
        "                    header=True,\n",
        "                    inferSchema=True,\n",
        "                    nullValue='NA')"
      ],
      "metadata": {
        "id": "_Cl-cBKF3LkD"
      },
      "execution_count": 5,
      "outputs": []
    },
    {
      "cell_type": "code",
      "source": [
        "df.show(5)"
      ],
      "metadata": {
        "id": "zUawGqn752tG",
        "colab": {
          "base_uri": "https://localhost:8080/"
        },
        "outputId": "076bb722-8482-48ee-9a02-edbafaa26c27"
      },
      "execution_count": 6,
      "outputs": [
        {
          "output_type": "stream",
          "name": "stdout",
          "text": [
            "+-----------+--------+------+--------------------+------+----+-----+-----+----------------+-------+-----+--------+\n",
            "|PassengerId|Survived|Pclass|                Name|   Sex| Age|SibSp|Parch|          Ticket|   Fare|Cabin|Embarked|\n",
            "+-----------+--------+------+--------------------+------+----+-----+-----+----------------+-------+-----+--------+\n",
            "|          1|       0|     3|Braund, Mr. Owen ...|  male|22.0|    1|    0|       A/5 21171|   7.25| null|       S|\n",
            "|          2|       1|     1|Cumings, Mrs. Joh...|female|38.0|    1|    0|        PC 17599|71.2833|  C85|       C|\n",
            "|          3|       1|     3|Heikkinen, Miss. ...|female|26.0|    0|    0|STON/O2. 3101282|  7.925| null|       S|\n",
            "|          4|       1|     1|Futrelle, Mrs. Ja...|female|35.0|    1|    0|          113803|   53.1| C123|       S|\n",
            "|          5|       0|     3|Allen, Mr. Willia...|  male|35.0|    0|    0|          373450|   8.05| null|       S|\n",
            "+-----------+--------+------+--------------------+------+----+-----+-----+----------------+-------+-----+--------+\n",
            "only showing top 5 rows\n",
            "\n"
          ]
        }
      ]
    },
    {
      "cell_type": "code",
      "source": [
        "df.columns"
      ],
      "metadata": {
        "id": "vy0fR3KZY0yO",
        "colab": {
          "base_uri": "https://localhost:8080/"
        },
        "outputId": "52d701b0-1811-42c2-faff-fe632c8c5131"
      },
      "execution_count": 7,
      "outputs": [
        {
          "output_type": "execute_result",
          "data": {
            "text/plain": [
              "['PassengerId',\n",
              " 'Survived',\n",
              " 'Pclass',\n",
              " 'Name',\n",
              " 'Sex',\n",
              " 'Age',\n",
              " 'SibSp',\n",
              " 'Parch',\n",
              " 'Ticket',\n",
              " 'Fare',\n",
              " 'Cabin',\n",
              " 'Embarked']"
            ]
          },
          "metadata": {},
          "execution_count": 7
        }
      ]
    },
    {
      "cell_type": "markdown",
      "source": [
        "# Besaran Data"
      ],
      "metadata": {
        "id": "qzii3Bra6tYs"
      }
    },
    {
      "cell_type": "code",
      "source": [
        "print(\"The data contain %d records.\" % df.count())"
      ],
      "metadata": {
        "id": "QZR6jTpf5_os",
        "colab": {
          "base_uri": "https://localhost:8080/"
        },
        "outputId": "8506f4f1-4d29-426b-dc15-3af5f734f66c"
      },
      "execution_count": 8,
      "outputs": [
        {
          "output_type": "stream",
          "name": "stdout",
          "text": [
            "The data contain 891 records.\n"
          ]
        }
      ]
    },
    {
      "cell_type": "markdown",
      "source": [
        "# Tipe Data"
      ],
      "metadata": {
        "id": "lRaB5bZP68ll"
      }
    },
    {
      "cell_type": "code",
      "source": [
        "df.printSchema()"
      ],
      "metadata": {
        "id": "k-PXvZ0r6y10",
        "colab": {
          "base_uri": "https://localhost:8080/"
        },
        "outputId": "5ecc4c9c-6ceb-45ab-bed9-7ccfa2affa1e"
      },
      "execution_count": 9,
      "outputs": [
        {
          "output_type": "stream",
          "name": "stdout",
          "text": [
            "root\n",
            " |-- PassengerId: integer (nullable = true)\n",
            " |-- Survived: integer (nullable = true)\n",
            " |-- Pclass: integer (nullable = true)\n",
            " |-- Name: string (nullable = true)\n",
            " |-- Sex: string (nullable = true)\n",
            " |-- Age: double (nullable = true)\n",
            " |-- SibSp: integer (nullable = true)\n",
            " |-- Parch: integer (nullable = true)\n",
            " |-- Ticket: string (nullable = true)\n",
            " |-- Fare: double (nullable = true)\n",
            " |-- Cabin: string (nullable = true)\n",
            " |-- Embarked: string (nullable = true)\n",
            "\n"
          ]
        }
      ]
    },
    {
      "cell_type": "markdown",
      "source": [
        "# Data Preparation"
      ],
      "metadata": {
        "id": "Le9P3JMt7NWP"
      }
    },
    {
      "cell_type": "code",
      "source": [
        "df.show()"
      ],
      "metadata": {
        "id": "AHUPWzCfJhLo",
        "colab": {
          "base_uri": "https://localhost:8080/"
        },
        "outputId": "cc862b01-930e-46a9-dc0f-9c106625f80b"
      },
      "execution_count": 10,
      "outputs": [
        {
          "output_type": "stream",
          "name": "stdout",
          "text": [
            "+-----------+--------+------+--------------------+------+----+-----+-----+----------------+-------+-----+--------+\n",
            "|PassengerId|Survived|Pclass|                Name|   Sex| Age|SibSp|Parch|          Ticket|   Fare|Cabin|Embarked|\n",
            "+-----------+--------+------+--------------------+------+----+-----+-----+----------------+-------+-----+--------+\n",
            "|          1|       0|     3|Braund, Mr. Owen ...|  male|22.0|    1|    0|       A/5 21171|   7.25| null|       S|\n",
            "|          2|       1|     1|Cumings, Mrs. Joh...|female|38.0|    1|    0|        PC 17599|71.2833|  C85|       C|\n",
            "|          3|       1|     3|Heikkinen, Miss. ...|female|26.0|    0|    0|STON/O2. 3101282|  7.925| null|       S|\n",
            "|          4|       1|     1|Futrelle, Mrs. Ja...|female|35.0|    1|    0|          113803|   53.1| C123|       S|\n",
            "|          5|       0|     3|Allen, Mr. Willia...|  male|35.0|    0|    0|          373450|   8.05| null|       S|\n",
            "|          6|       0|     3|    Moran, Mr. James|  male|null|    0|    0|          330877| 8.4583| null|       Q|\n",
            "|          7|       0|     1|McCarthy, Mr. Tim...|  male|54.0|    0|    0|           17463|51.8625|  E46|       S|\n",
            "|          8|       0|     3|Palsson, Master. ...|  male| 2.0|    3|    1|          349909| 21.075| null|       S|\n",
            "|          9|       1|     3|Johnson, Mrs. Osc...|female|27.0|    0|    2|          347742|11.1333| null|       S|\n",
            "|         10|       1|     2|Nasser, Mrs. Nich...|female|14.0|    1|    0|          237736|30.0708| null|       C|\n",
            "|         11|       1|     3|Sandstrom, Miss. ...|female| 4.0|    1|    1|         PP 9549|   16.7|   G6|       S|\n",
            "|         12|       1|     1|Bonnell, Miss. El...|female|58.0|    0|    0|          113783|  26.55| C103|       S|\n",
            "|         13|       0|     3|Saundercock, Mr. ...|  male|20.0|    0|    0|       A/5. 2151|   8.05| null|       S|\n",
            "|         14|       0|     3|Andersson, Mr. An...|  male|39.0|    1|    5|          347082| 31.275| null|       S|\n",
            "|         15|       0|     3|Vestrom, Miss. Hu...|female|14.0|    0|    0|          350406| 7.8542| null|       S|\n",
            "|         16|       1|     2|Hewlett, Mrs. (Ma...|female|55.0|    0|    0|          248706|   16.0| null|       S|\n",
            "|         17|       0|     3|Rice, Master. Eugene|  male| 2.0|    4|    1|          382652| 29.125| null|       Q|\n",
            "|         18|       1|     2|Williams, Mr. Cha...|  male|null|    0|    0|          244373|   13.0| null|       S|\n",
            "|         19|       0|     3|Vander Planke, Mr...|female|31.0|    1|    0|          345763|   18.0| null|       S|\n",
            "|         20|       1|     3|Masselmani, Mrs. ...|female|null|    0|    0|            2649|  7.225| null|       C|\n",
            "+-----------+--------+------+--------------------+------+----+-----+-----+----------------+-------+-----+--------+\n",
            "only showing top 20 rows\n",
            "\n"
          ]
        }
      ]
    },
    {
      "cell_type": "code",
      "source": [
        "df.toPandas().corr()"
      ],
      "metadata": {
        "colab": {
          "base_uri": "https://localhost:8080/",
          "height": 269
        },
        "id": "Q-pJv3fNPdjg",
        "outputId": "bf5c9255-03b1-48a6-f23f-c1e0ed5a6500"
      },
      "execution_count": 11,
      "outputs": [
        {
          "output_type": "execute_result",
          "data": {
            "text/plain": [
              "             PassengerId  Survived    Pclass       Age     SibSp     Parch  \\\n",
              "PassengerId     1.000000 -0.005007 -0.035144  0.036847 -0.057527 -0.001652   \n",
              "Survived       -0.005007  1.000000 -0.338481 -0.077221 -0.035322  0.081629   \n",
              "Pclass         -0.035144 -0.338481  1.000000 -0.369226  0.083081  0.018443   \n",
              "Age             0.036847 -0.077221 -0.369226  1.000000 -0.308247 -0.189119   \n",
              "SibSp          -0.057527 -0.035322  0.083081 -0.308247  1.000000  0.414838   \n",
              "Parch          -0.001652  0.081629  0.018443 -0.189119  0.414838  1.000000   \n",
              "Fare            0.012658  0.257307 -0.549500  0.096067  0.159651  0.216225   \n",
              "\n",
              "                 Fare  \n",
              "PassengerId  0.012658  \n",
              "Survived     0.257307  \n",
              "Pclass      -0.549500  \n",
              "Age          0.096067  \n",
              "SibSp        0.159651  \n",
              "Parch        0.216225  \n",
              "Fare         1.000000  "
            ],
            "text/html": [
              "\n",
              "  <div id=\"df-54f06601-19a1-44da-b236-aea9f0b715ee\">\n",
              "    <div class=\"colab-df-container\">\n",
              "      <div>\n",
              "<style scoped>\n",
              "    .dataframe tbody tr th:only-of-type {\n",
              "        vertical-align: middle;\n",
              "    }\n",
              "\n",
              "    .dataframe tbody tr th {\n",
              "        vertical-align: top;\n",
              "    }\n",
              "\n",
              "    .dataframe thead th {\n",
              "        text-align: right;\n",
              "    }\n",
              "</style>\n",
              "<table border=\"1\" class=\"dataframe\">\n",
              "  <thead>\n",
              "    <tr style=\"text-align: right;\">\n",
              "      <th></th>\n",
              "      <th>PassengerId</th>\n",
              "      <th>Survived</th>\n",
              "      <th>Pclass</th>\n",
              "      <th>Age</th>\n",
              "      <th>SibSp</th>\n",
              "      <th>Parch</th>\n",
              "      <th>Fare</th>\n",
              "    </tr>\n",
              "  </thead>\n",
              "  <tbody>\n",
              "    <tr>\n",
              "      <th>PassengerId</th>\n",
              "      <td>1.000000</td>\n",
              "      <td>-0.005007</td>\n",
              "      <td>-0.035144</td>\n",
              "      <td>0.036847</td>\n",
              "      <td>-0.057527</td>\n",
              "      <td>-0.001652</td>\n",
              "      <td>0.012658</td>\n",
              "    </tr>\n",
              "    <tr>\n",
              "      <th>Survived</th>\n",
              "      <td>-0.005007</td>\n",
              "      <td>1.000000</td>\n",
              "      <td>-0.338481</td>\n",
              "      <td>-0.077221</td>\n",
              "      <td>-0.035322</td>\n",
              "      <td>0.081629</td>\n",
              "      <td>0.257307</td>\n",
              "    </tr>\n",
              "    <tr>\n",
              "      <th>Pclass</th>\n",
              "      <td>-0.035144</td>\n",
              "      <td>-0.338481</td>\n",
              "      <td>1.000000</td>\n",
              "      <td>-0.369226</td>\n",
              "      <td>0.083081</td>\n",
              "      <td>0.018443</td>\n",
              "      <td>-0.549500</td>\n",
              "    </tr>\n",
              "    <tr>\n",
              "      <th>Age</th>\n",
              "      <td>0.036847</td>\n",
              "      <td>-0.077221</td>\n",
              "      <td>-0.369226</td>\n",
              "      <td>1.000000</td>\n",
              "      <td>-0.308247</td>\n",
              "      <td>-0.189119</td>\n",
              "      <td>0.096067</td>\n",
              "    </tr>\n",
              "    <tr>\n",
              "      <th>SibSp</th>\n",
              "      <td>-0.057527</td>\n",
              "      <td>-0.035322</td>\n",
              "      <td>0.083081</td>\n",
              "      <td>-0.308247</td>\n",
              "      <td>1.000000</td>\n",
              "      <td>0.414838</td>\n",
              "      <td>0.159651</td>\n",
              "    </tr>\n",
              "    <tr>\n",
              "      <th>Parch</th>\n",
              "      <td>-0.001652</td>\n",
              "      <td>0.081629</td>\n",
              "      <td>0.018443</td>\n",
              "      <td>-0.189119</td>\n",
              "      <td>0.414838</td>\n",
              "      <td>1.000000</td>\n",
              "      <td>0.216225</td>\n",
              "    </tr>\n",
              "    <tr>\n",
              "      <th>Fare</th>\n",
              "      <td>0.012658</td>\n",
              "      <td>0.257307</td>\n",
              "      <td>-0.549500</td>\n",
              "      <td>0.096067</td>\n",
              "      <td>0.159651</td>\n",
              "      <td>0.216225</td>\n",
              "      <td>1.000000</td>\n",
              "    </tr>\n",
              "  </tbody>\n",
              "</table>\n",
              "</div>\n",
              "      <button class=\"colab-df-convert\" onclick=\"convertToInteractive('df-54f06601-19a1-44da-b236-aea9f0b715ee')\"\n",
              "              title=\"Convert this dataframe to an interactive table.\"\n",
              "              style=\"display:none;\">\n",
              "        \n",
              "  <svg xmlns=\"http://www.w3.org/2000/svg\" height=\"24px\"viewBox=\"0 0 24 24\"\n",
              "       width=\"24px\">\n",
              "    <path d=\"M0 0h24v24H0V0z\" fill=\"none\"/>\n",
              "    <path d=\"M18.56 5.44l.94 2.06.94-2.06 2.06-.94-2.06-.94-.94-2.06-.94 2.06-2.06.94zm-11 1L8.5 8.5l.94-2.06 2.06-.94-2.06-.94L8.5 2.5l-.94 2.06-2.06.94zm10 10l.94 2.06.94-2.06 2.06-.94-2.06-.94-.94-2.06-.94 2.06-2.06.94z\"/><path d=\"M17.41 7.96l-1.37-1.37c-.4-.4-.92-.59-1.43-.59-.52 0-1.04.2-1.43.59L10.3 9.45l-7.72 7.72c-.78.78-.78 2.05 0 2.83L4 21.41c.39.39.9.59 1.41.59.51 0 1.02-.2 1.41-.59l7.78-7.78 2.81-2.81c.8-.78.8-2.07 0-2.86zM5.41 20L4 18.59l7.72-7.72 1.47 1.35L5.41 20z\"/>\n",
              "  </svg>\n",
              "      </button>\n",
              "      \n",
              "  <style>\n",
              "    .colab-df-container {\n",
              "      display:flex;\n",
              "      flex-wrap:wrap;\n",
              "      gap: 12px;\n",
              "    }\n",
              "\n",
              "    .colab-df-convert {\n",
              "      background-color: #E8F0FE;\n",
              "      border: none;\n",
              "      border-radius: 50%;\n",
              "      cursor: pointer;\n",
              "      display: none;\n",
              "      fill: #1967D2;\n",
              "      height: 32px;\n",
              "      padding: 0 0 0 0;\n",
              "      width: 32px;\n",
              "    }\n",
              "\n",
              "    .colab-df-convert:hover {\n",
              "      background-color: #E2EBFA;\n",
              "      box-shadow: 0px 1px 2px rgba(60, 64, 67, 0.3), 0px 1px 3px 1px rgba(60, 64, 67, 0.15);\n",
              "      fill: #174EA6;\n",
              "    }\n",
              "\n",
              "    [theme=dark] .colab-df-convert {\n",
              "      background-color: #3B4455;\n",
              "      fill: #D2E3FC;\n",
              "    }\n",
              "\n",
              "    [theme=dark] .colab-df-convert:hover {\n",
              "      background-color: #434B5C;\n",
              "      box-shadow: 0px 1px 3px 1px rgba(0, 0, 0, 0.15);\n",
              "      filter: drop-shadow(0px 1px 2px rgba(0, 0, 0, 0.3));\n",
              "      fill: #FFFFFF;\n",
              "    }\n",
              "  </style>\n",
              "\n",
              "      <script>\n",
              "        const buttonEl =\n",
              "          document.querySelector('#df-54f06601-19a1-44da-b236-aea9f0b715ee button.colab-df-convert');\n",
              "        buttonEl.style.display =\n",
              "          google.colab.kernel.accessAllowed ? 'block' : 'none';\n",
              "\n",
              "        async function convertToInteractive(key) {\n",
              "          const element = document.querySelector('#df-54f06601-19a1-44da-b236-aea9f0b715ee');\n",
              "          const dataTable =\n",
              "            await google.colab.kernel.invokeFunction('convertToInteractive',\n",
              "                                                     [key], {});\n",
              "          if (!dataTable) return;\n",
              "\n",
              "          const docLinkHtml = 'Like what you see? Visit the ' +\n",
              "            '<a target=\"_blank\" href=https://colab.research.google.com/notebooks/data_table.ipynb>data table notebook</a>'\n",
              "            + ' to learn more about interactive tables.';\n",
              "          element.innerHTML = '';\n",
              "          dataTable['output_type'] = 'display_data';\n",
              "          await google.colab.output.renderOutput(dataTable, element);\n",
              "          const docLink = document.createElement('div');\n",
              "          docLink.innerHTML = docLinkHtml;\n",
              "          element.appendChild(docLink);\n",
              "        }\n",
              "      </script>\n",
              "    </div>\n",
              "  </div>\n",
              "  "
            ]
          },
          "metadata": {},
          "execution_count": 11
        }
      ]
    },
    {
      "cell_type": "code",
      "source": [
        "sns.heatmap(df.toPandas().corr(), cmap='Blues', annot=True)"
      ],
      "metadata": {
        "colab": {
          "base_uri": "https://localhost:8080/",
          "height": 337
        },
        "id": "mWxE4SHQjqU-",
        "outputId": "3a25d7de-04d0-454a-825a-54d0f6471707"
      },
      "execution_count": 12,
      "outputs": [
        {
          "output_type": "execute_result",
          "data": {
            "text/plain": [
              "<matplotlib.axes._subplots.AxesSubplot at 0x7f84cd79add0>"
            ]
          },
          "metadata": {},
          "execution_count": 12
        },
        {
          "output_type": "display_data",
          "data": {
            "text/plain": [
              "<Figure size 432x288 with 2 Axes>"
            ],
            "image/png": "[encoded data removed]"
          },
          "metadata": {
            "needs_background": "light"
          }
        }
      ]
    },
    {
      "cell_type": "code",
      "source": [
        "df = df.drop(\"Name\")\n",
        "df = df.drop(\"Age\")\n",
        "df = df.drop(\"Ticket\")\n",
        "df = df.drop(\"Cabin\")\n",
        "df = df.drop(\"PassengerId\")"
      ],
      "metadata": {
        "id": "xSs4sdDlHGmR"
      },
      "execution_count": 13,
      "outputs": []
    },
    {
      "cell_type": "code",
      "source": [
        "df.show()"
      ],
      "metadata": {
        "colab": {
          "base_uri": "https://localhost:8080/"
        },
        "id": "UZWctIbndMsR",
        "outputId": "2854194d-2335-4ea4-fd4b-650a8822b0ff"
      },
      "execution_count": 14,
      "outputs": [
        {
          "output_type": "stream",
          "name": "stdout",
          "text": [
            "+--------+------+------+-----+-----+-------+--------+\n",
            "|Survived|Pclass|   Sex|SibSp|Parch|   Fare|Embarked|\n",
            "+--------+------+------+-----+-----+-------+--------+\n",
            "|       0|     3|  male|    1|    0|   7.25|       S|\n",
            "|       1|     1|female|    1|    0|71.2833|       C|\n",
            "|       1|     3|female|    0|    0|  7.925|       S|\n",
            "|       1|     1|female|    1|    0|   53.1|       S|\n",
            "|       0|     3|  male|    0|    0|   8.05|       S|\n",
            "|       0|     3|  male|    0|    0| 8.4583|       Q|\n",
            "|       0|     1|  male|    0|    0|51.8625|       S|\n",
            "|       0|     3|  male|    3|    1| 21.075|       S|\n",
            "|       1|     3|female|    0|    2|11.1333|       S|\n",
            "|       1|     2|female|    1|    0|30.0708|       C|\n",
            "|       1|     3|female|    1|    1|   16.7|       S|\n",
            "|       1|     1|female|    0|    0|  26.55|       S|\n",
            "|       0|     3|  male|    0|    0|   8.05|       S|\n",
            "|       0|     3|  male|    1|    5| 31.275|       S|\n",
            "|       0|     3|female|    0|    0| 7.8542|       S|\n",
            "|       1|     2|female|    0|    0|   16.0|       S|\n",
            "|       0|     3|  male|    4|    1| 29.125|       Q|\n",
            "|       1|     2|  male|    0|    0|   13.0|       S|\n",
            "|       0|     3|female|    1|    0|   18.0|       S|\n",
            "|       1|     3|female|    0|    0|  7.225|       C|\n",
            "+--------+------+------+-----+-----+-------+--------+\n",
            "only showing top 20 rows\n",
            "\n"
          ]
        }
      ]
    },
    {
      "cell_type": "code",
      "source": [
        "df.select(\"Fare\", \"Survived\", \"Pclass\", \"SibSp\", \"Parch\", \"Sex\", \"Embarked\").describe().show()"
      ],
      "metadata": {
        "id": "iElKYTNMJrIH",
        "colab": {
          "base_uri": "https://localhost:8080/"
        },
        "outputId": "26585226-6715-431e-c234-d93395de8256"
      },
      "execution_count": 15,
      "outputs": [
        {
          "output_type": "stream",
          "name": "stdout",
          "text": [
            "+-------+-----------------+-------------------+------------------+------------------+-------------------+------+--------+\n",
            "|summary|             Fare|           Survived|            Pclass|             SibSp|              Parch|   Sex|Embarked|\n",
            "+-------+-----------------+-------------------+------------------+------------------+-------------------+------+--------+\n",
            "|  count|              891|                891|               891|               891|                891|   891|     889|\n",
            "|   mean| 32.2042079685746| 0.3838383838383838| 2.308641975308642|0.5230078563411896|0.38159371492704824|  null|    null|\n",
            "| stddev|49.69342859718089|0.48659245426485753|0.8360712409770491|1.1027434322934315| 0.8060572211299488|  null|    null|\n",
            "|    min|              0.0|                  0|                 1|                 0|                  0|female|       C|\n",
            "|    max|         512.3292|                  1|                 3|                 8|                  6|  male|       S|\n",
            "+-------+-----------------+-------------------+------------------+------------------+-------------------+------+--------+\n",
            "\n"
          ]
        }
      ]
    },
    {
      "cell_type": "code",
      "source": [
        "df.select(\"Fare\", \"Survived\", \"Pclass\", \"SibSp\", \"Parch\", \"Sex\", \"Embarked\").summary().show()"
      ],
      "metadata": {
        "id": "ABGFJ8_QLA7T",
        "colab": {
          "base_uri": "https://localhost:8080/"
        },
        "outputId": "f794833d-5c4c-4c18-ab30-fe64fb19dece"
      },
      "execution_count": 16,
      "outputs": [
        {
          "output_type": "stream",
          "name": "stdout",
          "text": [
            "+-------+-----------------+-------------------+------------------+------------------+-------------------+------+--------+\n",
            "|summary|             Fare|           Survived|            Pclass|             SibSp|              Parch|   Sex|Embarked|\n",
            "+-------+-----------------+-------------------+------------------+------------------+-------------------+------+--------+\n",
            "|  count|              891|                891|               891|               891|                891|   891|     889|\n",
            "|   mean| 32.2042079685746| 0.3838383838383838| 2.308641975308642|0.5230078563411896|0.38159371492704824|  null|    null|\n",
            "| stddev|49.69342859718089|0.48659245426485753|0.8360712409770491|1.1027434322934315| 0.8060572211299488|  null|    null|\n",
            "|    min|              0.0|                  0|                 1|                 0|                  0|female|       C|\n",
            "|    25%|           7.8958|                  0|                 2|                 0|                  0|  null|    null|\n",
            "|    50%|          14.4542|                  0|                 3|                 0|                  0|  null|    null|\n",
            "|    75%|             31.0|                  1|                 3|                 1|                  0|  null|    null|\n",
            "|    max|         512.3292|                  1|                 3|                 8|                  6|  male|       S|\n",
            "+-------+-----------------+-------------------+------------------+------------------+-------------------+------+--------+\n",
            "\n"
          ]
        }
      ]
    },
    {
      "cell_type": "code",
      "source": [
        "print(df.select([count(when(isnan(c) | col(c).isNull(), c)).alias(c) for c in df.columns]).show())"
      ],
      "metadata": {
        "id": "fVbS1DoY6JCU",
        "colab": {
          "base_uri": "https://localhost:8080/"
        },
        "outputId": "cd14c473-e28e-4562-9bdb-0ecc63527fab"
      },
      "execution_count": 17,
      "outputs": [
        {
          "output_type": "stream",
          "name": "stdout",
          "text": [
            "+--------+------+---+-----+-----+----+--------+\n",
            "|Survived|Pclass|Sex|SibSp|Parch|Fare|Embarked|\n",
            "+--------+------+---+-----+-----+----+--------+\n",
            "|       0|     0|  0|    0|    0|   0|       2|\n",
            "+--------+------+---+-----+-----+----+--------+\n",
            "\n",
            "None\n"
          ]
        }
      ]
    },
    {
      "cell_type": "code",
      "source": [
        "print(df.groupby('Embarked').count().show(), \n",
        "      df.groupby('Sex').count().show(), \n",
        "      df.groupby('Pclass').count().show(),\n",
        "      df.groupby('SibSp').count().show(),\n",
        "      df.groupby('Parch').count().show())"
      ],
      "metadata": {
        "id": "DbBasRNP8Qlr",
        "colab": {
          "base_uri": "https://localhost:8080/"
        },
        "outputId": "beb8bfc7-f12f-437b-eaf2-e0b55424710b"
      },
      "execution_count": 18,
      "outputs": [
        {
          "output_type": "stream",
          "name": "stdout",
          "text": [
            "+--------+-----+\n",
            "|Embarked|count|\n",
            "+--------+-----+\n",
            "|       Q|   77|\n",
            "|    null|    2|\n",
            "|       C|  168|\n",
            "|       S|  644|\n",
            "+--------+-----+\n",
            "\n",
            "+------+-----+\n",
            "|   Sex|count|\n",
            "+------+-----+\n",
            "|female|  314|\n",
            "|  male|  577|\n",
            "+------+-----+\n",
            "\n",
            "+------+-----+\n",
            "|Pclass|count|\n",
            "+------+-----+\n",
            "|     1|  216|\n",
            "|     3|  491|\n",
            "|     2|  184|\n",
            "+------+-----+\n",
            "\n",
            "+-----+-----+\n",
            "|SibSp|count|\n",
            "+-----+-----+\n",
            "|    1|  209|\n",
            "|    3|   16|\n",
            "|    5|    5|\n",
            "|    4|   18|\n",
            "|    8|    7|\n",
            "|    2|   28|\n",
            "|    0|  608|\n",
            "+-----+-----+\n",
            "\n",
            "+-----+-----+\n",
            "|Parch|count|\n",
            "+-----+-----+\n",
            "|    1|  118|\n",
            "|    6|    1|\n",
            "|    3|    5|\n",
            "|    5|    5|\n",
            "|    4|    4|\n",
            "|    2|   80|\n",
            "|    0|  678|\n",
            "+-----+-----+\n",
            "\n",
            "None None None None None\n"
          ]
        }
      ]
    },
    {
      "cell_type": "code",
      "source": [
        "df = df.fillna(\"S\", subset=\"Embarked\")\n",
        "print(df.groupby('Embarked').count().show())"
      ],
      "metadata": {
        "id": "i5kTqJpv9RUA",
        "colab": {
          "base_uri": "https://localhost:8080/"
        },
        "outputId": "f153c4f2-be92-46b3-8eea-b735348f66a4"
      },
      "execution_count": 19,
      "outputs": [
        {
          "output_type": "stream",
          "name": "stdout",
          "text": [
            "+--------+-----+\n",
            "|Embarked|count|\n",
            "+--------+-----+\n",
            "|       Q|   77|\n",
            "|       C|  168|\n",
            "|       S|  646|\n",
            "+--------+-----+\n",
            "\n",
            "None\n"
          ]
        }
      ]
    },
    {
      "cell_type": "code",
      "source": [
        "df = StringIndexer(inputCol='Embarked', outputCol='Embarked_idx').fit(df).transform(df)\n",
        "df = df.drop(\"Embarked\")\n",
        "df = df.withColumnRenamed(\"Embarked_idx\", \"Embarked\")\n",
        "df.show(5)"
      ],
      "metadata": {
        "id": "-bOCuDg_a-CA",
        "colab": {
          "base_uri": "https://localhost:8080/"
        },
        "outputId": "f2c1d470-977e-4466-a459-031ac03ba6cc"
      },
      "execution_count": 20,
      "outputs": [
        {
          "output_type": "stream",
          "name": "stdout",
          "text": [
            "+--------+------+------+-----+-----+-------+--------+\n",
            "|Survived|Pclass|   Sex|SibSp|Parch|   Fare|Embarked|\n",
            "+--------+------+------+-----+-----+-------+--------+\n",
            "|       0|     3|  male|    1|    0|   7.25|     0.0|\n",
            "|       1|     1|female|    1|    0|71.2833|     1.0|\n",
            "|       1|     3|female|    0|    0|  7.925|     0.0|\n",
            "|       1|     1|female|    1|    0|   53.1|     0.0|\n",
            "|       0|     3|  male|    0|    0|   8.05|     0.0|\n",
            "+--------+------+------+-----+-----+-------+--------+\n",
            "only showing top 5 rows\n",
            "\n"
          ]
        }
      ]
    },
    {
      "cell_type": "code",
      "source": [
        "df = StringIndexer(inputCol='Sex', outputCol='Sex_idx').fit(df).transform(df)\n",
        "df = df.drop(\"Sex\")\n",
        "df = df.withColumnRenamed('Sex_idx', 'Sex')\n",
        "df.show(5)"
      ],
      "metadata": {
        "id": "1GiDziBNbAAZ",
        "colab": {
          "base_uri": "https://localhost:8080/"
        },
        "outputId": "8f0927d2-df79-440a-d5e0-a97dc0e96649"
      },
      "execution_count": 21,
      "outputs": [
        {
          "output_type": "stream",
          "name": "stdout",
          "text": [
            "+--------+------+-----+-----+-------+--------+---+\n",
            "|Survived|Pclass|SibSp|Parch|   Fare|Embarked|Sex|\n",
            "+--------+------+-----+-----+-------+--------+---+\n",
            "|       0|     3|    1|    0|   7.25|     0.0|0.0|\n",
            "|       1|     1|    1|    0|71.2833|     1.0|1.0|\n",
            "|       1|     3|    0|    0|  7.925|     0.0|1.0|\n",
            "|       1|     1|    1|    0|   53.1|     0.0|1.0|\n",
            "|       0|     3|    0|    0|   8.05|     0.0|0.0|\n",
            "+--------+------+-----+-----+-------+--------+---+\n",
            "only showing top 5 rows\n",
            "\n"
          ]
        }
      ]
    },
    {
      "cell_type": "code",
      "source": [
        "df.show(5)"
      ],
      "metadata": {
        "id": "L5iCQqf9bBmf",
        "colab": {
          "base_uri": "https://localhost:8080/"
        },
        "outputId": "143efd71-a81e-44eb-8aa6-ab614fd4ac85"
      },
      "execution_count": 22,
      "outputs": [
        {
          "output_type": "stream",
          "name": "stdout",
          "text": [
            "+--------+------+-----+-----+-------+--------+---+\n",
            "|Survived|Pclass|SibSp|Parch|   Fare|Embarked|Sex|\n",
            "+--------+------+-----+-----+-------+--------+---+\n",
            "|       0|     3|    1|    0|   7.25|     0.0|0.0|\n",
            "|       1|     1|    1|    0|71.2833|     1.0|1.0|\n",
            "|       1|     3|    0|    0|  7.925|     0.0|1.0|\n",
            "|       1|     1|    1|    0|   53.1|     0.0|1.0|\n",
            "|       0|     3|    0|    0|   8.05|     0.0|0.0|\n",
            "+--------+------+-----+-----+-------+--------+---+\n",
            "only showing top 5 rows\n",
            "\n"
          ]
        }
      ]
    },
    {
      "cell_type": "code",
      "source": [
        "df.dtypes"
      ],
      "metadata": {
        "id": "a4EwdKjoItW4",
        "colab": {
          "base_uri": "https://localhost:8080/"
        },
        "outputId": "dae2ec3e-9a5a-4161-f7be-0fb48055015f"
      },
      "execution_count": 23,
      "outputs": [
        {
          "output_type": "execute_result",
          "data": {
            "text/plain": [
              "[('Survived', 'int'),\n",
              " ('Pclass', 'int'),\n",
              " ('SibSp', 'int'),\n",
              " ('Parch', 'int'),\n",
              " ('Fare', 'double'),\n",
              " ('Embarked', 'double'),\n",
              " ('Sex', 'double')]"
            ]
          },
          "metadata": {},
          "execution_count": 23
        }
      ]
    },
    {
      "cell_type": "markdown",
      "source": [
        "### Visualisasi"
      ],
      "metadata": {
        "id": "yjzMgCITDvfm"
      }
    },
    {
      "cell_type": "code",
      "source": [
        "sns.pairplot(hue=\"Survived\", vars=[\"Embarked\", \"Pclass\", \"SibSp\", \"Parch\", \"Fare\", \"Sex\"], \n",
        "             data = df.toPandas() ,corner=True, diag_kind='hist', markers='*')"
      ],
      "metadata": {
        "id": "xT-BPKv9KCvt",
        "colab": {
          "base_uri": "https://localhost:8080/",
          "height": 778
        },
        "outputId": "9e90db21-dcea-44b6-9a9b-c25434cd6c4f"
      },
      "execution_count": 48,
      "outputs": [
        {
          "output_type": "execute_result",
          "data": {
            "text/plain": [
              "<seaborn.axisgrid.PairGrid at 0x7f84c7e41410>"
            ]
          },
          "metadata": {},
          "execution_count": 48
        },
        {
          "output_type": "display_data",
          "data": {
            "text/plain": [
              "<Figure size 1131.88x1080 with 27 Axes>"
            ],
            "image/png": "[encoded data removed]"
          },
          "metadata": {
            "needs_background": "light"
          }
        }
      ]
    },
    {
      "cell_type": "code",
      "source": [
        "fig, ax = plt.subplots(2, 3, figsize=(10, 10))\n",
        "sns.countplot(\"Embarked\", data=df.toPandas(), hue='Survived', ax=ax[0,0])\n",
        "sns.countplot(\"Pclass\", data=df.toPandas(), hue='Survived', ax=ax[0,1])\n",
        "sns.countplot(\"SibSp\", data=df.toPandas(), hue='Survived',ax=ax[0,2])\n",
        "sns.countplot(\"Parch\", data=df.toPandas(), hue='Survived',ax=ax[1,0])\n",
        "sns.countplot(\"Sex\", data=df.toPandas(), hue='Survived',ax=ax[1,1]);"
      ],
      "metadata": {
        "colab": {
          "base_uri": "https://localhost:8080/",
          "height": 800
        },
        "id": "3-AIf2lxu8rn",
        "outputId": "9e4acc19-d5dd-4414-890b-e9a0719d0cf1"
      },
      "execution_count": 49,
      "outputs": [
        {
          "output_type": "stream",
          "name": "stderr",
          "text": [
            "/usr/local/lib/python3.7/dist-packages/seaborn/_decorators.py:43: FutureWarning: Pass the following variable as a keyword arg: x. From version 0.12, the only valid positional argument will be `data`, and passing other arguments without an explicit keyword will result in an error or misinterpretation.\n",
            "  FutureWarning\n",
            "/usr/local/lib/python3.7/dist-packages/seaborn/_decorators.py:43: FutureWarning: Pass the following variable as a keyword arg: x. From version 0.12, the only valid positional argument will be `data`, and passing other arguments without an explicit keyword will result in an error or misinterpretation.\n",
            "  FutureWarning\n",
            "/usr/local/lib/python3.7/dist-packages/seaborn/_decorators.py:43: FutureWarning: Pass the following variable as a keyword arg: x. From version 0.12, the only valid positional argument will be `data`, and passing other arguments without an explicit keyword will result in an error or misinterpretation.\n",
            "  FutureWarning\n",
            "/usr/local/lib/python3.7/dist-packages/seaborn/_decorators.py:43: FutureWarning: Pass the following variable as a keyword arg: x. From version 0.12, the only valid positional argument will be `data`, and passing other arguments without an explicit keyword will result in an error or misinterpretation.\n",
            "  FutureWarning\n",
            "/usr/local/lib/python3.7/dist-packages/seaborn/_decorators.py:43: FutureWarning: Pass the following variable as a keyword arg: x. From version 0.12, the only valid positional argument will be `data`, and passing other arguments without an explicit keyword will result in an error or misinterpretation.\n",
            "  FutureWarning\n"
          ]
        },
        {
          "output_type": "display_data",
          "data": {
            "text/plain": [
              "<Figure size 720x720 with 6 Axes>"
            ],
            "image/png": "[encoded data removed]"
          },
          "metadata": {
            "needs_background": "light"
          }
        }
      ]
    },
    {
      "cell_type": "code",
      "source": [
        "fig, ax = plt.subplots(2, 3, figsize=(10, 10))\n",
        "ax[0,0].hist(\"Fare\", data=df.toPandas(), bins=5, density=0.5)\n",
        "ax[0,0].set(title=\"Fare\")\n",
        "ax[0,1].hist(\"Embarked\", data=df.toPandas(), bins=5, density=0.5)\n",
        "ax[0,1].set(title=\"Embarked\")\n",
        "ax[0,2].hist(\"Pclass\", data=df.toPandas(), bins=5, density=0.5)\n",
        "ax[0,2].set(title=\"Pclass\")\n",
        "ax[1,0].hist(\"SibSp\", data=df.toPandas(), bins=5, density=0.5)\n",
        "ax[1,0].set(title=\"SibSp\")\n",
        "ax[1,1].hist(\"Parch\", data=df.toPandas(), bins=5, density=0.5)\n",
        "ax[1,1].set(title=\"Parch\")\n",
        "ax[1,2].hist(\"Sex\", data=df.toPandas(), bins=5, density=0.5)\n",
        "ax[1,2].set(title=\"Sex\")"
      ],
      "metadata": {
        "id": "kDLHFKYO6B5c",
        "colab": {
          "base_uri": "https://localhost:8080/",
          "height": 624
        },
        "outputId": "34823b0c-619d-4867-a286-8a1c7a771484"
      },
      "execution_count": 25,
      "outputs": [
        {
          "output_type": "execute_result",
          "data": {
            "text/plain": [
              "[Text(0.5, 1.0, 'Sex')]"
            ]
          },
          "metadata": {},
          "execution_count": 25
        },
        {
          "output_type": "display_data",
          "data": {
            "text/plain": [
              "<Figure size 720x720 with 6 Axes>"
            ],
            "image/png": "[encoded data removed]"
          },
          "metadata": {
            "needs_background": "light"
          }
        }
      ]
    },
    {
      "cell_type": "code",
      "source": [
        "sns.displot(x=\"Fare\", data=df.toPandas(), kind='kde', hue='Survived');"
      ],
      "metadata": {
        "colab": {
          "base_uri": "https://localhost:8080/",
          "height": 369
        },
        "id": "VSH4tkYQvOSX",
        "outputId": "2ceb33ea-f08b-4a39-ec03-f9f005a7fe7a"
      },
      "execution_count": 50,
      "outputs": [
        {
          "output_type": "display_data",
          "data": {
            "text/plain": [
              "<Figure size 411.875x360 with 1 Axes>"
            ],
            "image/png": "[encoded data removed]"
          },
          "metadata": {
            "needs_background": "light"
          }
        }
      ]
    },
    {
      "cell_type": "code",
      "source": [
        "df_pandas = df.toPandas()\n",
        "plt.figure(figsize=(9,9))\n",
        "plt.pie(x=df_pandas['Survived'].value_counts(), startangle=90, autopct='%1.0f%%')\n",
        "plt.legend(title=\"Survived\", loc=\"upper right\", labels=['Survived', 'Not Survived'])\n",
        "plt.show()"
      ],
      "metadata": {
        "colab": {
          "base_uri": "https://localhost:8080/",
          "height": 520
        },
        "id": "Y4wgOpvUvRbC",
        "outputId": "29ef47c6-973d-424e-e95d-815560a53b2c"
      },
      "execution_count": 54,
      "outputs": [
        {
          "output_type": "display_data",
          "data": {
            "text/plain": [
              "<Figure size 648x648 with 1 Axes>"
            ],
            "image/png": "[encoded data removed]"
          },
          "metadata": {}
        }
      ]
    },
    {
      "cell_type": "code",
      "source": [
        "plt.title(\"Outliers\")\n",
        "sns.boxplot(x=\"Survived\", y=\"Fare\", data=df.toPandas())"
      ],
      "metadata": {
        "id": "N8ZjCBnJKQEJ",
        "colab": {
          "base_uri": "https://localhost:8080/",
          "height": 312
        },
        "outputId": "c0a71d1a-4aab-4dbe-eeb9-789fc3c78f77"
      },
      "execution_count": 26,
      "outputs": [
        {
          "output_type": "execute_result",
          "data": {
            "text/plain": [
              "<matplotlib.axes._subplots.AxesSubplot at 0x7f84c9c49090>"
            ]
          },
          "metadata": {},
          "execution_count": 26
        },
        {
          "output_type": "display_data",
          "data": {
            "text/plain": [
              "<Figure size 432x288 with 1 Axes>"
            ],
            "image/png": "[encoded data removed]"
          },
          "metadata": {
            "needs_background": "light"
          }
        }
      ]
    },
    {
      "cell_type": "code",
      "source": [
        ""
      ],
      "metadata": {
        "id": "r7cqOh3Osgq-"
      },
      "execution_count": null,
      "outputs": []
    },
    {
      "cell_type": "markdown",
      "source": [
        "# Modeling"
      ],
      "metadata": {
        "id": "DS2wJLD4iNxZ"
      }
    },
    {
      "cell_type": "code",
      "source": [
        "df.columns"
      ],
      "metadata": {
        "id": "M_cdRtaGrKmv",
        "colab": {
          "base_uri": "https://localhost:8080/"
        },
        "outputId": "30cd1cb1-f9d7-4cd8-b25d-2797a8798e46"
      },
      "execution_count": 28,
      "outputs": [
        {
          "output_type": "execute_result",
          "data": {
            "text/plain": [
              "['Survived', 'Pclass', 'SibSp', 'Parch', 'Fare', 'Embarked', 'Sex']"
            ]
          },
          "metadata": {},
          "execution_count": 28
        }
      ]
    },
    {
      "cell_type": "code",
      "source": [
        "assembler = VectorAssembler(inputCols=['Pclass', 'SibSp', 'Parch', 'Fare', 'Embarked', 'Sex'], outputCol=\"features\")\n",
        "df = assembler.transform(df)\n",
        "\n",
        "df.select('features', 'Survived').show(10, truncate=False)"
      ],
      "metadata": {
        "id": "1oad7fYaqeBI",
        "colab": {
          "base_uri": "https://localhost:8080/"
        },
        "outputId": "612022ad-29f5-4ff5-c124-71d34d012f82"
      },
      "execution_count": 29,
      "outputs": [
        {
          "output_type": "stream",
          "name": "stdout",
          "text": [
            "+-----------------------------+--------+\n",
            "|features                     |Survived|\n",
            "+-----------------------------+--------+\n",
            "|[3.0,1.0,0.0,7.25,0.0,0.0]   |0       |\n",
            "|[1.0,1.0,0.0,71.2833,1.0,1.0]|1       |\n",
            "|[3.0,0.0,0.0,7.925,0.0,1.0]  |1       |\n",
            "|[1.0,1.0,0.0,53.1,0.0,1.0]   |1       |\n",
            "|(6,[0,3],[3.0,8.05])         |0       |\n",
            "|[3.0,0.0,0.0,8.4583,2.0,0.0] |0       |\n",
            "|(6,[0,3],[1.0,51.8625])      |0       |\n",
            "|[3.0,3.0,1.0,21.075,0.0,0.0] |0       |\n",
            "|[3.0,0.0,2.0,11.1333,0.0,1.0]|1       |\n",
            "|[2.0,1.0,0.0,30.0708,1.0,1.0]|1       |\n",
            "+-----------------------------+--------+\n",
            "only showing top 10 rows\n",
            "\n"
          ]
        }
      ]
    },
    {
      "cell_type": "code",
      "source": [
        "training, testing = df.randomSplit([0.77, 0.23], seed=42)\n",
        "ratio = training.count() / df.count()\n",
        "print(ratio)"
      ],
      "metadata": {
        "id": "wrW_I9vqUxh4",
        "colab": {
          "base_uri": "https://localhost:8080/"
        },
        "outputId": "bcefd302-b565-4b56-b0e7-b1fbfb058b0d"
      },
      "execution_count": 30,
      "outputs": [
        {
          "output_type": "stream",
          "name": "stdout",
          "text": [
            "0.8035914702581369\n"
          ]
        }
      ]
    },
    {
      "cell_type": "markdown",
      "source": [
        "### Logistic Regression with PySpark"
      ],
      "metadata": {
        "id": "xvmwMre6paKy"
      }
    },
    {
      "cell_type": "code",
      "source": [
        "from pyspark.ml.classification import LogisticRegression"
      ],
      "metadata": {
        "id": "cBoRLT7KWBVr"
      },
      "execution_count": 31,
      "outputs": []
    },
    {
      "cell_type": "code",
      "source": [
        "lr = LogisticRegression(labelCol=\"Survived\", featuresCol=\"features\", regParam=0.1, elasticNetParam=1.0, maxIter=500)\n",
        "model_lr = lr.fit(training)\n",
        "\n",
        "prediction = model_lr.transform(testing)\n",
        "prediction.select('Survived', 'prediction', 'probability').show(5, False)"
      ],
      "metadata": {
        "id": "fch-lRZ1pQF-",
        "colab": {
          "base_uri": "https://localhost:8080/"
        },
        "outputId": "484623c3-9444-4b81-fb7b-e05910302703"
      },
      "execution_count": 32,
      "outputs": [
        {
          "output_type": "stream",
          "name": "stdout",
          "text": [
            "+--------+----------+----------------------------------------+\n",
            "|Survived|prediction|probability                             |\n",
            "+--------+----------+----------------------------------------+\n",
            "|0       |0.0       |[0.6602038440886607,0.33979615591133927]|\n",
            "|0       |0.0       |[0.6602038440886607,0.33979615591133927]|\n",
            "|0       |0.0       |[0.6602038440886607,0.33979615591133927]|\n",
            "|0       |0.0       |[0.6602038440886607,0.33979615591133927]|\n",
            "|0       |0.0       |[0.6602038440886607,0.33979615591133927]|\n",
            "+--------+----------+----------------------------------------+\n",
            "only showing top 5 rows\n",
            "\n"
          ]
        }
      ]
    },
    {
      "cell_type": "code",
      "source": [
        "# Create a confusion matrix\n",
        "prediction.groupBy('Survived', 'prediction').count().show()\n",
        "\n",
        "# Calculate the elements of the confusion matrix\n",
        "TN = prediction.filter('prediction = 0 AND Survived = prediction').count()\n",
        "TP = prediction.filter('prediction = 1 AND Survived = prediction').count()\n",
        "FN = prediction.filter('prediction = 0 AND Survived != prediction').count()\n",
        "FP = prediction.filter('prediction = 1 AND Survived != prediction').count()\n",
        "\n",
        "# Accuracy measures the proportion of correct predictions\n",
        "accuracy = (TN + TP) / (TN + TP + FN + FP)\n",
        "print(accuracy)"
      ],
      "metadata": {
        "id": "I5oeBDRHpoq2",
        "colab": {
          "base_uri": "https://localhost:8080/"
        },
        "outputId": "a53beecf-6adc-4065-a9e2-f7f4ec99424c"
      },
      "execution_count": 33,
      "outputs": [
        {
          "output_type": "stream",
          "name": "stdout",
          "text": [
            "+--------+----------+-----+\n",
            "|Survived|prediction|count|\n",
            "+--------+----------+-----+\n",
            "|       1|       0.0|   21|\n",
            "|       0|       0.0|   87|\n",
            "|       1|       1.0|   50|\n",
            "|       0|       1.0|   17|\n",
            "+--------+----------+-----+\n",
            "\n",
            "0.7828571428571428\n"
          ]
        }
      ]
    },
    {
      "cell_type": "code",
      "source": [
        "y_true = prediction.select(\"Survived\").collect()\n",
        "y_pred = prediction.select(\"prediction\").collect()\n",
        "\n",
        "print(classification_report(y_true, y_pred))\n",
        "confusion_matrix(y_true, y_pred)"
      ],
      "metadata": {
        "id": "aYdKQnMtFD_B",
        "colab": {
          "base_uri": "https://localhost:8080/"
        },
        "outputId": "3c214836-2d06-4e5d-9236-5e3797ae9397"
      },
      "execution_count": 35,
      "outputs": [
        {
          "output_type": "stream",
          "name": "stdout",
          "text": [
            "              precision    recall  f1-score   support\n",
            "\n",
            "           0       0.81      0.84      0.82       104\n",
            "           1       0.75      0.70      0.72        71\n",
            "\n",
            "    accuracy                           0.78       175\n",
            "   macro avg       0.78      0.77      0.77       175\n",
            "weighted avg       0.78      0.78      0.78       175\n",
            "\n"
          ]
        },
        {
          "output_type": "execute_result",
          "data": {
            "text/plain": [
              "array([[87, 17],\n",
              "       [21, 50]])"
            ]
          },
          "metadata": {},
          "execution_count": 35
        }
      ]
    },
    {
      "cell_type": "code",
      "source": [
        "display = ConfusionMatrixDisplay(confusion_matrix(y_true, y_pred), display_labels=[0,1])\n",
        "display.plot(cmap=plt.cm.Blues)\n",
        "plt.show()"
      ],
      "metadata": {
        "id": "2WBgRA75G7L2",
        "colab": {
          "base_uri": "https://localhost:8080/",
          "height": 279
        },
        "outputId": "c7661c8a-47c9-483a-880f-608fea155ea1"
      },
      "execution_count": 36,
      "outputs": [
        {
          "output_type": "display_data",
          "data": {
            "text/plain": [
              "<Figure size 432x288 with 2 Axes>"
            ],
            "image/png": "[encoded data removed]"
          },
          "metadata": {
            "needs_background": "light"
          }
        }
      ]
    },
    {
      "cell_type": "code",
      "source": [
        "from pyspark.ml.evaluation import BinaryClassificationEvaluator"
      ],
      "metadata": {
        "id": "N84DOuFZh9zT"
      },
      "execution_count": 37,
      "outputs": []
    },
    {
      "cell_type": "code",
      "source": [
        "eval = BinaryClassificationEvaluator(labelCol='Survived')\n",
        "eval.evaluate(prediction)"
      ],
      "metadata": {
        "colab": {
          "base_uri": "https://localhost:8080/"
        },
        "id": "7_jGOUBKhwqk",
        "outputId": "c876c126-02fe-4eeb-a282-ea09a5f07229"
      },
      "execution_count": 38,
      "outputs": [
        {
          "output_type": "execute_result",
          "data": {
            "text/plain": [
              "0.8338299024918743"
            ]
          },
          "metadata": {},
          "execution_count": 38
        }
      ]
    },
    {
      "cell_type": "code",
      "source": [
        ""
      ],
      "metadata": {
        "id": "PJ4G6Ow2uMlO"
      },
      "execution_count": null,
      "outputs": []
    }
  ]
}