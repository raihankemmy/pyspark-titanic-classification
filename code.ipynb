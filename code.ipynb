{
  "nbformat": 4,
  "nbformat_minor": 0,
  "metadata": {
    "colab": {
      "name": "PySpark Big Data",
      "provenance": [],
      "collapsed_sections": [],
      "authorship_tag": "ABX9TyNhQx+KEC/rviwxznQE2yKj",
      "include_colab_link": true
    },
    "kernelspec": {
      "name": "python3",
      "display_name": "Python 3"
    },
    "language_info": {
      "name": "python"
    }
  },
  "cells": [
    {
      "cell_type": "markdown",
      "metadata": {
        "id": "view-in-github",
        "colab_type": "text"
      },
      "source": [
        "<a href=\"https://colab.research.google.com/github/raihankemmy/pyspark-titanic-classification/blob/main/PySpark_Big_Data.ipynb\" target=\"_parent\"><img src=\"https://colab.research.google.com/assets/colab-badge.svg\" alt=\"Open In Colab\"/></a>"
      ]
    },
    {
      "cell_type": "code",
      "source": [
        "from google.colab import drive\n",
        "drive.mount('/content/drive')"
      ],
      "metadata": {
        "colab": {
          "base_uri": "https://localhost:8080/"
        },
        "id": "wSrOVs9i2XfG",
        "outputId": "12f977d1-c160-432e-e7ec-e3899ff18c5d"
      },
      "execution_count": null,
      "outputs": [
        {
          "output_type": "stream",
          "name": "stdout",
          "text": [
            "Drive already mounted at /content/drive; to attempt to forcibly remount, call drive.mount(\"/content/drive\", force_remount=True).\n"
          ]
        }
      ]
    },
    {
      "cell_type": "code",
      "execution_count": null,
      "metadata": {
        "colab": {
          "base_uri": "https://localhost:8080/"
        },
        "id": "7jkq-tqQn1Ug",
        "outputId": "8d323e7a-3b3a-4ea0-f4a6-93c32d011d36"
      },
      "outputs": [
        {
          "output_type": "stream",
          "name": "stdout",
          "text": [
            "Looking in indexes: https://pypi.org/simple, https://us-python.pkg.dev/colab-wheels/public/simple/\n",
            "Requirement already satisfied: pyspark in /usr/local/lib/python3.7/dist-packages (3.3.0)\n",
            "Requirement already satisfied: py4j==0.10.9.5 in /usr/local/lib/python3.7/dist-packages (from pyspark) (0.10.9.5)\n"
          ]
        }
      ],
      "source": [
        "!pip install pyspark"
      ]
    },
    {
      "cell_type": "code",
      "source": [
        "import numpy as np\n",
        "import pandas as pd\n",
        "from pyspark.sql import *\n",
        "from pyspark.sql.functions import *\n",
        "from pyspark.ml.feature import *\n",
        "import seaborn as sns\n",
        "import matplotlib.pyplot as plt\n",
        "from sklearn.model_selection import train_test_split\n",
        "from pyspark.ml.evaluation import MulticlassClassificationEvaluator\n",
        "from sklearn.metrics import confusion_matrix, classification_report, ConfusionMatrixDisplay"
      ],
      "metadata": {
        "id": "Ns6ltnTS2u6n"
      },
      "execution_count": null,
      "outputs": []
    },
    {
      "cell_type": "code",
      "source": [
        "spark = SparkSession.builder.getOrCreate()\n",
        "spark"
      ],
      "metadata": {
        "id": "xzb2br683GyX",
        "colab": {
          "base_uri": "https://localhost:8080/",
          "height": 219
        },
        "outputId": "8e516f27-410e-4860-ab2f-c035e0ee22de"
      },
      "execution_count": null,
      "outputs": [
        {
          "output_type": "execute_result",
          "data": {
            "text/plain": [
              "<pyspark.sql.session.SparkSession at 0x7fcd56d524d0>"
            ],
            "text/html": [
              "\n",
              "            <div>\n",
              "                <p><b>SparkSession - in-memory</b></p>\n",
              "                \n",
              "        <div>\n",
              "            <p><b>SparkContext</b></p>\n",
              "\n",
              "            <p><a href=\"http://b378560360f8:4040\">Spark UI</a></p>\n",
              "\n",
              "            <dl>\n",
              "              <dt>Version</dt>\n",
              "                <dd><code>v3.3.0</code></dd>\n",
              "              <dt>Master</dt>\n",
              "                <dd><code>local[*]</code></dd>\n",
              "              <dt>AppName</dt>\n",
              "                <dd><code>pyspark-shell</code></dd>\n",
              "            </dl>\n",
              "        </div>\n",
              "        \n",
              "            </div>\n",
              "        "
            ]
          },
          "metadata": {},
          "execution_count": 120
        }
      ]
    },
    {
      "cell_type": "markdown",
      "source": [
        "# Load Data"
      ],
      "metadata": {
        "id": "0KDe35425Syf"
      }
    },
    {
      "cell_type": "code",
      "source": [
        "df = spark.read.csv('/content/drive/MyDrive/Colab Notebooks/dataset/titanic.csv',\n",
        "                    header=True,\n",
        "                    inferSchema=True,\n",
        "                    nullValue='NA')"
      ],
      "metadata": {
        "id": "_Cl-cBKF3LkD"
      },
      "execution_count": null,
      "outputs": []
    },
    {
      "cell_type": "code",
      "source": [
        "df.show(5)"
      ],
      "metadata": {
        "id": "zUawGqn752tG",
        "colab": {
          "base_uri": "https://localhost:8080/"
        },
        "outputId": "24e13cc9-f795-49ed-e761-4b3ac6555c12"
      },
      "execution_count": null,
      "outputs": [
        {
          "output_type": "stream",
          "name": "stdout",
          "text": [
            "+-----------+--------+------+--------------------+------+----+-----+-----+----------------+-------+-----+--------+\n",
            "|PassengerId|Survived|Pclass|                Name|   Sex| Age|SibSp|Parch|          Ticket|   Fare|Cabin|Embarked|\n",
            "+-----------+--------+------+--------------------+------+----+-----+-----+----------------+-------+-----+--------+\n",
            "|          1|       0|     3|Braund, Mr. Owen ...|  male|22.0|    1|    0|       A/5 21171|   7.25| null|       S|\n",
            "|          2|       1|     1|Cumings, Mrs. Joh...|female|38.0|    1|    0|        PC 17599|71.2833|  C85|       C|\n",
            "|          3|       1|     3|Heikkinen, Miss. ...|female|26.0|    0|    0|STON/O2. 3101282|  7.925| null|       S|\n",
            "|          4|       1|     1|Futrelle, Mrs. Ja...|female|35.0|    1|    0|          113803|   53.1| C123|       S|\n",
            "|          5|       0|     3|Allen, Mr. Willia...|  male|35.0|    0|    0|          373450|   8.05| null|       S|\n",
            "+-----------+--------+------+--------------------+------+----+-----+-----+----------------+-------+-----+--------+\n",
            "only showing top 5 rows\n",
            "\n"
          ]
        }
      ]
    },
    {
      "cell_type": "code",
      "source": [
        "df.columns"
      ],
      "metadata": {
        "id": "vy0fR3KZY0yO",
        "colab": {
          "base_uri": "https://localhost:8080/"
        },
        "outputId": "d07ff9b8-b9ac-4cc7-9963-55ad5682dd14"
      },
      "execution_count": null,
      "outputs": [
        {
          "output_type": "execute_result",
          "data": {
            "text/plain": [
              "['PassengerId',\n",
              " 'Survived',\n",
              " 'Pclass',\n",
              " 'Name',\n",
              " 'Sex',\n",
              " 'Age',\n",
              " 'SibSp',\n",
              " 'Parch',\n",
              " 'Ticket',\n",
              " 'Fare',\n",
              " 'Cabin',\n",
              " 'Embarked']"
            ]
          },
          "metadata": {},
          "execution_count": 123
        }
      ]
    },
    {
      "cell_type": "markdown",
      "source": [
        "# Besaran Data"
      ],
      "metadata": {
        "id": "qzii3Bra6tYs"
      }
    },
    {
      "cell_type": "code",
      "source": [
        "print(\"The data contain %d records.\" % df.count())"
      ],
      "metadata": {
        "id": "QZR6jTpf5_os",
        "colab": {
          "base_uri": "https://localhost:8080/"
        },
        "outputId": "5357b525-d6ac-40d8-c394-e77af0a398e1"
      },
      "execution_count": null,
      "outputs": [
        {
          "output_type": "stream",
          "name": "stdout",
          "text": [
            "The data contain 891 records.\n"
          ]
        }
      ]
    },
    {
      "cell_type": "markdown",
      "source": [
        "# Tipe Data"
      ],
      "metadata": {
        "id": "lRaB5bZP68ll"
      }
    },
    {
      "cell_type": "code",
      "source": [
        "df.printSchema()"
      ],
      "metadata": {
        "id": "k-PXvZ0r6y10",
        "colab": {
          "base_uri": "https://localhost:8080/"
        },
        "outputId": "8e967796-5a86-4f06-c39b-b1485ed9bbe5"
      },
      "execution_count": null,
      "outputs": [
        {
          "output_type": "stream",
          "name": "stdout",
          "text": [
            "root\n",
            " |-- PassengerId: integer (nullable = true)\n",
            " |-- Survived: integer (nullable = true)\n",
            " |-- Pclass: integer (nullable = true)\n",
            " |-- Name: string (nullable = true)\n",
            " |-- Sex: string (nullable = true)\n",
            " |-- Age: double (nullable = true)\n",
            " |-- SibSp: integer (nullable = true)\n",
            " |-- Parch: integer (nullable = true)\n",
            " |-- Ticket: string (nullable = true)\n",
            " |-- Fare: double (nullable = true)\n",
            " |-- Cabin: string (nullable = true)\n",
            " |-- Embarked: string (nullable = true)\n",
            "\n"
          ]
        }
      ]
    },
    {
      "cell_type": "markdown",
      "source": [
        "# Data Preparation"
      ],
      "metadata": {
        "id": "Le9P3JMt7NWP"
      }
    },
    {
      "cell_type": "code",
      "source": [
        "df.show()"
      ],
      "metadata": {
        "colab": {
          "base_uri": "https://localhost:8080/"
        },
        "id": "AHUPWzCfJhLo",
        "outputId": "3082125a-0e27-4356-e91e-5eb5ebcf4524"
      },
      "execution_count": null,
      "outputs": [
        {
          "output_type": "stream",
          "name": "stdout",
          "text": [
            "+-----------+--------+------+--------------------+------+----+-----+-----+----------------+-------+-----+--------+\n",
            "|PassengerId|Survived|Pclass|                Name|   Sex| Age|SibSp|Parch|          Ticket|   Fare|Cabin|Embarked|\n",
            "+-----------+--------+------+--------------------+------+----+-----+-----+----------------+-------+-----+--------+\n",
            "|          1|       0|     3|Braund, Mr. Owen ...|  male|22.0|    1|    0|       A/5 21171|   7.25| null|       S|\n",
            "|          2|       1|     1|Cumings, Mrs. Joh...|female|38.0|    1|    0|        PC 17599|71.2833|  C85|       C|\n",
            "|          3|       1|     3|Heikkinen, Miss. ...|female|26.0|    0|    0|STON/O2. 3101282|  7.925| null|       S|\n",
            "|          4|       1|     1|Futrelle, Mrs. Ja...|female|35.0|    1|    0|          113803|   53.1| C123|       S|\n",
            "|          5|       0|     3|Allen, Mr. Willia...|  male|35.0|    0|    0|          373450|   8.05| null|       S|\n",
            "|          6|       0|     3|    Moran, Mr. James|  male|null|    0|    0|          330877| 8.4583| null|       Q|\n",
            "|          7|       0|     1|McCarthy, Mr. Tim...|  male|54.0|    0|    0|           17463|51.8625|  E46|       S|\n",
            "|          8|       0|     3|Palsson, Master. ...|  male| 2.0|    3|    1|          349909| 21.075| null|       S|\n",
            "|          9|       1|     3|Johnson, Mrs. Osc...|female|27.0|    0|    2|          347742|11.1333| null|       S|\n",
            "|         10|       1|     2|Nasser, Mrs. Nich...|female|14.0|    1|    0|          237736|30.0708| null|       C|\n",
            "|         11|       1|     3|Sandstrom, Miss. ...|female| 4.0|    1|    1|         PP 9549|   16.7|   G6|       S|\n",
            "|         12|       1|     1|Bonnell, Miss. El...|female|58.0|    0|    0|          113783|  26.55| C103|       S|\n",
            "|         13|       0|     3|Saundercock, Mr. ...|  male|20.0|    0|    0|       A/5. 2151|   8.05| null|       S|\n",
            "|         14|       0|     3|Andersson, Mr. An...|  male|39.0|    1|    5|          347082| 31.275| null|       S|\n",
            "|         15|       0|     3|Vestrom, Miss. Hu...|female|14.0|    0|    0|          350406| 7.8542| null|       S|\n",
            "|         16|       1|     2|Hewlett, Mrs. (Ma...|female|55.0|    0|    0|          248706|   16.0| null|       S|\n",
            "|         17|       0|     3|Rice, Master. Eugene|  male| 2.0|    4|    1|          382652| 29.125| null|       Q|\n",
            "|         18|       1|     2|Williams, Mr. Cha...|  male|null|    0|    0|          244373|   13.0| null|       S|\n",
            "|         19|       0|     3|Vander Planke, Mr...|female|31.0|    1|    0|          345763|   18.0| null|       S|\n",
            "|         20|       1|     3|Masselmani, Mrs. ...|female|null|    0|    0|            2649|  7.225| null|       C|\n",
            "+-----------+--------+------+--------------------+------+----+-----+-----+----------------+-------+-----+--------+\n",
            "only showing top 20 rows\n",
            "\n"
          ]
        }
      ]
    },
    {
      "cell_type": "code",
      "source": [
        "df = df.drop(\"Name\")\n",
        "df = df.drop(\"Age\")\n",
        "df = df.drop(\"Ticket\")\n",
        "df = df.drop(\"Cabin\")\n",
        "df = df.drop(\"PassengerId\")"
      ],
      "metadata": {
        "id": "xSs4sdDlHGmR"
      },
      "execution_count": null,
      "outputs": []
    },
    {
      "cell_type": "code",
      "source": [
        "df.select(\"Fare\").describe().show()"
      ],
      "metadata": {
        "id": "BuaBysACY80I",
        "colab": {
          "base_uri": "https://localhost:8080/"
        },
        "outputId": "c02c5901-0a1a-468a-8b2e-a3a300c8395c"
      },
      "execution_count": null,
      "outputs": [
        {
          "output_type": "stream",
          "name": "stdout",
          "text": [
            "+-------+-----------------+\n",
            "|summary|             Fare|\n",
            "+-------+-----------------+\n",
            "|  count|              891|\n",
            "|   mean| 32.2042079685746|\n",
            "| stddev|49.69342859718089|\n",
            "|    min|              0.0|\n",
            "|    max|         512.3292|\n",
            "+-------+-----------------+\n",
            "\n"
          ]
        }
      ]
    },
    {
      "cell_type": "code",
      "source": [
        "df.select(\"Survived\", \"Pclass\", \"SibSp\", \"Parch\", \"Embarked\").describe().show()"
      ],
      "metadata": {
        "colab": {
          "base_uri": "https://localhost:8080/"
        },
        "id": "iElKYTNMJrIH",
        "outputId": "5018205f-baac-42fc-f811-5e790d72ae1b"
      },
      "execution_count": null,
      "outputs": [
        {
          "output_type": "stream",
          "name": "stdout",
          "text": [
            "+-------+-------------------+------------------+------------------+-------------------+--------+\n",
            "|summary|           Survived|            Pclass|             SibSp|              Parch|Embarked|\n",
            "+-------+-------------------+------------------+------------------+-------------------+--------+\n",
            "|  count|                891|               891|               891|                891|     889|\n",
            "|   mean| 0.3838383838383838| 2.308641975308642|0.5230078563411896|0.38159371492704824|    null|\n",
            "| stddev|0.48659245426485753|0.8360712409770491|1.1027434322934315| 0.8060572211299488|    null|\n",
            "|    min|                  0|                 1|                 0|                  0|       C|\n",
            "|    max|                  1|                 3|                 8|                  6|       S|\n",
            "+-------+-------------------+------------------+------------------+-------------------+--------+\n",
            "\n"
          ]
        }
      ]
    },
    {
      "cell_type": "code",
      "source": [
        "df.select(\"Sex\", \"Embarked\").describe().show()"
      ],
      "metadata": {
        "colab": {
          "base_uri": "https://localhost:8080/"
        },
        "id": "ABGFJ8_QLA7T",
        "outputId": "90590ea3-33e8-4ea6-8a12-80d51c5a2a67"
      },
      "execution_count": null,
      "outputs": [
        {
          "output_type": "stream",
          "name": "stdout",
          "text": [
            "+-------+------+--------+\n",
            "|summary|   Sex|Embarked|\n",
            "+-------+------+--------+\n",
            "|  count|   891|     889|\n",
            "|   mean|  null|    null|\n",
            "| stddev|  null|    null|\n",
            "|    min|female|       C|\n",
            "|    max|  male|       S|\n",
            "+-------+------+--------+\n",
            "\n"
          ]
        }
      ]
    },
    {
      "cell_type": "code",
      "source": [
        "print(df.select([count(when(isnan(c) | col(c).isNull(), c)).alias(c) for c in df.columns]).show())"
      ],
      "metadata": {
        "colab": {
          "base_uri": "https://localhost:8080/"
        },
        "id": "fVbS1DoY6JCU",
        "outputId": "c68eeb8e-1ef3-44f6-e30b-2b1e1df8a1db"
      },
      "execution_count": null,
      "outputs": [
        {
          "output_type": "stream",
          "name": "stdout",
          "text": [
            "+--------+------+---+-----+-----+----+--------+\n",
            "|Survived|Pclass|Sex|SibSp|Parch|Fare|Embarked|\n",
            "+--------+------+---+-----+-----+----+--------+\n",
            "|       0|     0|  0|    0|    0|   0|       2|\n",
            "+--------+------+---+-----+-----+----+--------+\n",
            "\n",
            "None\n"
          ]
        }
      ]
    },
    {
      "cell_type": "code",
      "source": [
        "print(df.groupby('Embarked').count().show(), \n",
        "      df.groupby('Sex').count().show(), \n",
        "      df.groupby('Pclass').count().show(),\n",
        "      df.groupby('SibSp').count().show(),\n",
        "      df.groupby('Parch').count().show())"
      ],
      "metadata": {
        "colab": {
          "base_uri": "https://localhost:8080/"
        },
        "id": "DbBasRNP8Qlr",
        "outputId": "01222829-bfd7-47ce-d741-3629ad364eb1"
      },
      "execution_count": null,
      "outputs": [
        {
          "output_type": "stream",
          "name": "stdout",
          "text": [
            "+--------+-----+\n",
            "|Embarked|count|\n",
            "+--------+-----+\n",
            "|       Q|   77|\n",
            "|    null|    2|\n",
            "|       C|  168|\n",
            "|       S|  644|\n",
            "+--------+-----+\n",
            "\n",
            "+------+-----+\n",
            "|   Sex|count|\n",
            "+------+-----+\n",
            "|female|  314|\n",
            "|  male|  577|\n",
            "+------+-----+\n",
            "\n",
            "+------+-----+\n",
            "|Pclass|count|\n",
            "+------+-----+\n",
            "|     1|  216|\n",
            "|     3|  491|\n",
            "|     2|  184|\n",
            "+------+-----+\n",
            "\n",
            "+-----+-----+\n",
            "|SibSp|count|\n",
            "+-----+-----+\n",
            "|    1|  209|\n",
            "|    3|   16|\n",
            "|    5|    5|\n",
            "|    4|   18|\n",
            "|    8|    7|\n",
            "|    2|   28|\n",
            "|    0|  608|\n",
            "+-----+-----+\n",
            "\n",
            "+-----+-----+\n",
            "|Parch|count|\n",
            "+-----+-----+\n",
            "|    1|  118|\n",
            "|    6|    1|\n",
            "|    3|    5|\n",
            "|    5|    5|\n",
            "|    4|    4|\n",
            "|    2|   80|\n",
            "|    0|  678|\n",
            "+-----+-----+\n",
            "\n",
            "None None None None None\n"
          ]
        }
      ]
    },
    {
      "cell_type": "code",
      "source": [
        "df = df.fillna(\"S\", subset=\"Embarked\")\n",
        "print(df.groupby('Embarked').count().show())"
      ],
      "metadata": {
        "colab": {
          "base_uri": "https://localhost:8080/"
        },
        "id": "i5kTqJpv9RUA",
        "outputId": "c5ddbe95-e9e3-45ac-e121-ed11b0f2a593"
      },
      "execution_count": null,
      "outputs": [
        {
          "output_type": "stream",
          "name": "stdout",
          "text": [
            "+--------+-----+\n",
            "|Embarked|count|\n",
            "+--------+-----+\n",
            "|       Q|   77|\n",
            "|       C|  168|\n",
            "|       S|  646|\n",
            "+--------+-----+\n",
            "\n",
            "None\n"
          ]
        }
      ]
    },
    {
      "cell_type": "code",
      "source": [
        "df = StringIndexer(inputCol='Embarked', outputCol='Embarked_idx').fit(df).transform(df)\n",
        "df = df.drop(\"Embarked\")\n",
        "df = df.withColumnRenamed(\"Embarked_idx\", \"Embarked\")\n",
        "df.show(5)"
      ],
      "metadata": {
        "colab": {
          "base_uri": "https://localhost:8080/"
        },
        "id": "-bOCuDg_a-CA",
        "outputId": "172d77a9-8f3a-4e20-c3dc-3d4fa57dbebe"
      },
      "execution_count": null,
      "outputs": [
        {
          "output_type": "stream",
          "name": "stdout",
          "text": [
            "+--------+------+------+-----+-----+-------+--------+\n",
            "|Survived|Pclass|   Sex|SibSp|Parch|   Fare|Embarked|\n",
            "+--------+------+------+-----+-----+-------+--------+\n",
            "|       0|     3|  male|    1|    0|   7.25|     0.0|\n",
            "|       1|     1|female|    1|    0|71.2833|     1.0|\n",
            "|       1|     3|female|    0|    0|  7.925|     0.0|\n",
            "|       1|     1|female|    1|    0|   53.1|     0.0|\n",
            "|       0|     3|  male|    0|    0|   8.05|     0.0|\n",
            "+--------+------+------+-----+-----+-------+--------+\n",
            "only showing top 5 rows\n",
            "\n"
          ]
        }
      ]
    },
    {
      "cell_type": "code",
      "source": [
        "df = StringIndexer(inputCol='Sex', outputCol='Sex_idx').fit(df).transform(df)\n",
        "df = df.drop(\"Sex\")\n",
        "df = df.withColumnRenamed('Sex_idx', 'Sex')\n",
        "df.show(5)"
      ],
      "metadata": {
        "colab": {
          "base_uri": "https://localhost:8080/"
        },
        "id": "1GiDziBNbAAZ",
        "outputId": "29b47102-f59c-439a-9d51-f339b8fbbc51"
      },
      "execution_count": null,
      "outputs": [
        {
          "output_type": "stream",
          "name": "stdout",
          "text": [
            "+--------+------+-----+-----+-------+--------+---+\n",
            "|Survived|Pclass|SibSp|Parch|   Fare|Embarked|Sex|\n",
            "+--------+------+-----+-----+-------+--------+---+\n",
            "|       0|     3|    1|    0|   7.25|     0.0|0.0|\n",
            "|       1|     1|    1|    0|71.2833|     1.0|1.0|\n",
            "|       1|     3|    0|    0|  7.925|     0.0|1.0|\n",
            "|       1|     1|    1|    0|   53.1|     0.0|1.0|\n",
            "|       0|     3|    0|    0|   8.05|     0.0|0.0|\n",
            "+--------+------+-----+-----+-------+--------+---+\n",
            "only showing top 5 rows\n",
            "\n"
          ]
        }
      ]
    },
    {
      "cell_type": "code",
      "source": [
        "df.show(5)"
      ],
      "metadata": {
        "colab": {
          "base_uri": "https://localhost:8080/"
        },
        "id": "L5iCQqf9bBmf",
        "outputId": "e8deccdc-858d-4ca0-b8b2-44654d601090"
      },
      "execution_count": null,
      "outputs": [
        {
          "output_type": "stream",
          "name": "stdout",
          "text": [
            "+--------+------+-----+-----+-------+--------+---+\n",
            "|Survived|Pclass|SibSp|Parch|   Fare|Embarked|Sex|\n",
            "+--------+------+-----+-----+-------+--------+---+\n",
            "|       0|     3|    1|    0|   7.25|     0.0|0.0|\n",
            "|       1|     1|    1|    0|71.2833|     1.0|1.0|\n",
            "|       1|     3|    0|    0|  7.925|     0.0|1.0|\n",
            "|       1|     1|    1|    0|   53.1|     0.0|1.0|\n",
            "|       0|     3|    0|    0|   8.05|     0.0|0.0|\n",
            "+--------+------+-----+-----+-------+--------+---+\n",
            "only showing top 5 rows\n",
            "\n"
          ]
        }
      ]
    },
    {
      "cell_type": "code",
      "source": [
        "df.dtypes"
      ],
      "metadata": {
        "colab": {
          "base_uri": "https://localhost:8080/"
        },
        "id": "a4EwdKjoItW4",
        "outputId": "8d3d21cd-51f8-4b77-df93-56bab2c1f6a7"
      },
      "execution_count": null,
      "outputs": [
        {
          "output_type": "execute_result",
          "data": {
            "text/plain": [
              "[('Survived', 'int'),\n",
              " ('Pclass', 'int'),\n",
              " ('SibSp', 'int'),\n",
              " ('Parch', 'int'),\n",
              " ('Fare', 'double'),\n",
              " ('Embarked', 'double'),\n",
              " ('Sex', 'double')]"
            ]
          },
          "metadata": {},
          "execution_count": 137
        }
      ]
    },
    {
      "cell_type": "markdown",
      "source": [
        "### Visualisasi"
      ],
      "metadata": {
        "id": "yjzMgCITDvfm"
      }
    },
    {
      "cell_type": "code",
      "source": [
        "sns.pairplot(hue=\"Survived\", vars=[\"Embarked\", \"Pclass\", \"SibSp\", \"Parch\", \"Fare\", \"Sex\"], data = df.toPandas() ,corner=True)"
      ],
      "metadata": {
        "colab": {
          "base_uri": "https://localhost:8080/",
          "height": 791
        },
        "id": "xT-BPKv9KCvt",
        "outputId": "b241c5ff-37d4-4dd6-f164-605e2377c007"
      },
      "execution_count": null,
      "outputs": [
        {
          "output_type": "execute_result",
          "data": {
            "text/plain": [
              "<seaborn.axisgrid.PairGrid at 0x7fcd4d1cfa90>"
            ]
          },
          "metadata": {},
          "execution_count": 138
        },
        {
          "output_type": "display_data",
          "data": {
            "text/plain": [
              "<Figure size 1131.88x1080 with 27 Axes>"
            ],
            "image/png": "[encoded data removed]"
          },
          "metadata": {
            "needs_background": "light"
          }
        }
      ]
    },
    {
      "cell_type": "code",
      "source": [
        "fig, ax = plt.subplots(2, 3, figsize=(10, 10))\n",
        "ax[0,0].hist(\"Fare\", data=df.toPandas(), bins=5, density=0.5)\n",
        "ax[0,0].set(title=\"Fare\")\n",
        "ax[0,1].hist(\"Embarked\", data=df.toPandas(), bins=5, density=0.5)\n",
        "ax[0,1].set(title=\"Embarked\")\n",
        "ax[0,2].hist(\"Pclass\", data=df.toPandas(), bins=5, density=0.5)\n",
        "ax[0,2].set(title=\"Pclass\")\n",
        "ax[1,0].hist(\"SibSp\", data=df.toPandas(), bins=5, density=0.5)\n",
        "ax[1,0].set(title=\"SibSp\")\n",
        "ax[1,1].hist(\"Parch\", data=df.toPandas(), bins=5, density=0.5)\n",
        "ax[1,1].set(title=\"Parch\")\n",
        "ax[1,2].hist(\"Sex\", data=df.toPandas(), bins=5, density=0.5)\n",
        "ax[1,2].set(title=\"Sex\")"
      ],
      "metadata": {
        "colab": {
          "base_uri": "https://localhost:8080/",
          "height": 624
        },
        "id": "kDLHFKYO6B5c",
        "outputId": "879a6816-ec9e-49f9-abdf-aed60f0d5bf9"
      },
      "execution_count": null,
      "outputs": [
        {
          "output_type": "execute_result",
          "data": {
            "text/plain": [
              "[Text(0.5, 1.0, 'Sex')]"
            ]
          },
          "metadata": {},
          "execution_count": 139
        },
        {
          "output_type": "display_data",
          "data": {
            "text/plain": [
              "<Figure size 720x720 with 6 Axes>"
            ],
            "image/png": "[encoded data removed]"
          },
          "metadata": {
            "needs_background": "light"
          }
        }
      ]
    },
    {
      "cell_type": "code",
      "source": [
        "plt.title(\"Outliers\")\n",
        "sns.boxplot(x=\"Survived\", y=\"Fare\", data=df.toPandas())"
      ],
      "metadata": {
        "colab": {
          "base_uri": "https://localhost:8080/",
          "height": 312
        },
        "id": "N8ZjCBnJKQEJ",
        "outputId": "2f6280cd-36bc-4128-9537-ead05cbb4ae5"
      },
      "execution_count": null,
      "outputs": [
        {
          "output_type": "execute_result",
          "data": {
            "text/plain": [
              "<matplotlib.axes._subplots.AxesSubplot at 0x7fcd4b0fcdd0>"
            ]
          },
          "metadata": {},
          "execution_count": 140
        },
        {
          "output_type": "display_data",
          "data": {
            "text/plain": [
              "<Figure size 432x288 with 1 Axes>"
            ],
            "image/png": "[encoded data removed]"
          },
          "metadata": {
            "needs_background": "light"
          }
        }
      ]
    },
    {
      "cell_type": "code",
      "source": [
        "print(\"The data contain %d records.\" % df.count())"
      ],
      "metadata": {
        "colab": {
          "base_uri": "https://localhost:8080/"
        },
        "id": "mGGuZWpCafch",
        "outputId": "9495a976-d4a2-4aed-98a9-f0cc24b433fd"
      },
      "execution_count": null,
      "outputs": [
        {
          "output_type": "stream",
          "name": "stdout",
          "text": [
            "The data contain 891 records.\n"
          ]
        }
      ]
    },
    {
      "cell_type": "markdown",
      "source": [
        "# Modeling"
      ],
      "metadata": {
        "id": "DS2wJLD4iNxZ"
      }
    },
    {
      "cell_type": "code",
      "source": [
        "df.columns"
      ],
      "metadata": {
        "colab": {
          "base_uri": "https://localhost:8080/"
        },
        "id": "M_cdRtaGrKmv",
        "outputId": "e1e81d45-5721-44b8-8b76-88a76ac7e922"
      },
      "execution_count": null,
      "outputs": [
        {
          "output_type": "execute_result",
          "data": {
            "text/plain": [
              "['Survived', 'Pclass', 'SibSp', 'Parch', 'Fare', 'Embarked', 'Sex']"
            ]
          },
          "metadata": {},
          "execution_count": 142
        }
      ]
    },
    {
      "cell_type": "code",
      "source": [
        "assembler = VectorAssembler(inputCols=['Pclass', 'SibSp', 'Parch', 'Fare', 'Embarked', 'Sex'], outputCol=\"features\")\n",
        "df = assembler.transform(df)\n",
        "\n",
        "df.select('features', 'Survived').show(10, truncate=False)"
      ],
      "metadata": {
        "colab": {
          "base_uri": "https://localhost:8080/"
        },
        "id": "1oad7fYaqeBI",
        "outputId": "d89a7b82-fbda-4ddb-854a-e6e225f80aec"
      },
      "execution_count": null,
      "outputs": [
        {
          "output_type": "stream",
          "name": "stdout",
          "text": [
            "+-----------------------------+--------+\n",
            "|features                     |Survived|\n",
            "+-----------------------------+--------+\n",
            "|[3.0,1.0,0.0,7.25,0.0,0.0]   |0       |\n",
            "|[1.0,1.0,0.0,71.2833,1.0,1.0]|1       |\n",
            "|[3.0,0.0,0.0,7.925,0.0,1.0]  |1       |\n",
            "|[1.0,1.0,0.0,53.1,0.0,1.0]   |1       |\n",
            "|(6,[0,3],[3.0,8.05])         |0       |\n",
            "|[3.0,0.0,0.0,8.4583,2.0,0.0] |0       |\n",
            "|(6,[0,3],[1.0,51.8625])      |0       |\n",
            "|[3.0,3.0,1.0,21.075,0.0,0.0] |0       |\n",
            "|[3.0,0.0,2.0,11.1333,0.0,1.0]|1       |\n",
            "|[2.0,1.0,0.0,30.0708,1.0,1.0]|1       |\n",
            "+-----------------------------+--------+\n",
            "only showing top 10 rows\n",
            "\n"
          ]
        }
      ]
    },
    {
      "cell_type": "code",
      "source": [
        "training, testing = df.randomSplit([0.77, 0.23], seed=42)\n",
        "ratio = training.count() / df.count()\n",
        "print(ratio)"
      ],
      "metadata": {
        "colab": {
          "base_uri": "https://localhost:8080/"
        },
        "id": "wrW_I9vqUxh4",
        "outputId": "7bab7905-5598-4351-f8ea-5af938af25c2"
      },
      "execution_count": null,
      "outputs": [
        {
          "output_type": "stream",
          "name": "stdout",
          "text": [
            "0.8035914702581369\n"
          ]
        }
      ]
    },
    {
      "cell_type": "markdown",
      "source": [
        "### Logistic Regression with PySpark"
      ],
      "metadata": {
        "id": "xvmwMre6paKy"
      }
    },
    {
      "cell_type": "code",
      "source": [
        "from pyspark.ml.classification import LogisticRegression"
      ],
      "metadata": {
        "id": "cBoRLT7KWBVr"
      },
      "execution_count": null,
      "outputs": []
    },
    {
      "cell_type": "code",
      "source": [
        "lr = LogisticRegression(labelCol=\"Survived\", featuresCol=\"features\", regParam=0.1, elasticNetParam=1.0, maxIter=500)\n",
        "model_lr = lr.fit(training)\n",
        "\n",
        "prediction = model_lr.transform(testing)\n",
        "prediction.select('Survived', 'prediction', 'probability').show(5, False)"
      ],
      "metadata": {
        "colab": {
          "base_uri": "https://localhost:8080/"
        },
        "id": "fch-lRZ1pQF-",
        "outputId": "9449c901-6571-4de8-ae32-3a77ac7a8da9"
      },
      "execution_count": null,
      "outputs": [
        {
          "output_type": "stream",
          "name": "stdout",
          "text": [
            "+--------+----------+----------------------------------------+\n",
            "|Survived|prediction|probability                             |\n",
            "+--------+----------+----------------------------------------+\n",
            "|0       |0.0       |[0.6602038440886607,0.33979615591133927]|\n",
            "|0       |0.0       |[0.6602038440886607,0.33979615591133927]|\n",
            "|0       |0.0       |[0.6602038440886607,0.33979615591133927]|\n",
            "|0       |0.0       |[0.6602038440886607,0.33979615591133927]|\n",
            "|0       |0.0       |[0.6602038440886607,0.33979615591133927]|\n",
            "+--------+----------+----------------------------------------+\n",
            "only showing top 5 rows\n",
            "\n"
          ]
        }
      ]
    },
    {
      "cell_type": "code",
      "source": [
        "# Create a confusion matrix\n",
        "prediction.groupBy('Survived', 'prediction').count().show()\n",
        "\n",
        "# Calculate the elements of the confusion matrix\n",
        "TN = prediction.filter('prediction = 0 AND Survived = prediction').count()\n",
        "TP = prediction.filter('prediction = 1 AND Survived = prediction').count()\n",
        "FN = prediction.filter('prediction = 0 AND Survived != prediction').count()\n",
        "FP = prediction.filter('prediction = 1 AND Survived != prediction').count()\n",
        "\n",
        "# Accuracy measures the proportion of correct predictions\n",
        "accuracy = (TN + TP) / (TN + TP + FN + FP)\n",
        "print(accuracy)"
      ],
      "metadata": {
        "colab": {
          "base_uri": "https://localhost:8080/"
        },
        "id": "I5oeBDRHpoq2",
        "outputId": "afb69b34-e867-493a-a7b5-8e961f190132"
      },
      "execution_count": null,
      "outputs": [
        {
          "output_type": "stream",
          "name": "stdout",
          "text": [
            "+--------+----------+-----+\n",
            "|Survived|prediction|count|\n",
            "+--------+----------+-----+\n",
            "|       1|       0.0|   21|\n",
            "|       0|       0.0|   87|\n",
            "|       1|       1.0|   50|\n",
            "|       0|       1.0|   17|\n",
            "+--------+----------+-----+\n",
            "\n",
            "0.7828571428571428\n"
          ]
        }
      ]
    },
    {
      "cell_type": "code",
      "source": [
        "evaluator = MulticlassClassificationEvaluator(labelCol='Survived', metricName='accuracy')\n",
        "evaluator.evaluate(prediction)"
      ],
      "metadata": {
        "colab": {
          "base_uri": "https://localhost:8080/"
        },
        "id": "zYijN6hb7PB_",
        "outputId": "d9965511-b815-48a7-d1ac-e19e71098857"
      },
      "execution_count": null,
      "outputs": [
        {
          "output_type": "execute_result",
          "data": {
            "text/plain": [
              "0.7828571428571428"
            ]
          },
          "metadata": {},
          "execution_count": 148
        }
      ]
    },
    {
      "cell_type": "code",
      "source": [
        "y_true = prediction.select(\"Survived\").collect()\n",
        "y_pred = prediction.select(\"prediction\").collect()\n",
        "\n",
        "print(classification_report(y_true, y_pred))\n",
        "confusion_matrix(y_true, y_pred)"
      ],
      "metadata": {
        "colab": {
          "base_uri": "https://localhost:8080/"
        },
        "id": "aYdKQnMtFD_B",
        "outputId": "ec255936-5384-4b9f-ae26-69c1f751e447"
      },
      "execution_count": null,
      "outputs": [
        {
          "output_type": "stream",
          "name": "stdout",
          "text": [
            "              precision    recall  f1-score   support\n",
            "\n",
            "           0       0.81      0.84      0.82       104\n",
            "           1       0.75      0.70      0.72        71\n",
            "\n",
            "    accuracy                           0.78       175\n",
            "   macro avg       0.78      0.77      0.77       175\n",
            "weighted avg       0.78      0.78      0.78       175\n",
            "\n"
          ]
        },
        {
          "output_type": "execute_result",
          "data": {
            "text/plain": [
              "array([[87, 17],\n",
              "       [21, 50]])"
            ]
          },
          "metadata": {},
          "execution_count": 153
        }
      ]
    },
    {
      "cell_type": "code",
      "source": [
        "display = ConfusionMatrixDisplay(confusion_matrix(y_true, y_pred), display_labels=[0,1])\n",
        "display.plot(cmap=plt.cm.Blues)\n",
        "plt.show()"
      ],
      "metadata": {
        "colab": {
          "base_uri": "https://localhost:8080/",
          "height": 279
        },
        "id": "2WBgRA75G7L2",
        "outputId": "222caab5-fc8d-485c-cf30-757963f93f2d"
      },
      "execution_count": null,
      "outputs": [
        {
          "output_type": "display_data",
          "data": {
            "text/plain": [
              "<Figure size 432x288 with 2 Axes>"
            ],
            "image/png": "[encoded data removed]"
          },
          "metadata": {
            "needs_background": "light"
          }
        }
      ]
    }
  ]
}
